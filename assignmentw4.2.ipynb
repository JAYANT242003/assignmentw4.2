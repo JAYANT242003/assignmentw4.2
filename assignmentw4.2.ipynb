{
 "cells": [
  {
   "cell_type": "code",
   "execution_count": null,
   "id": "c512a72e-c849-42e2-9dab-3bcdb4d3389a",
   "metadata": {},
   "outputs": [],
   "source": [
    "Q1."
   ]
  },
  {
   "cell_type": "code",
   "execution_count": null,
   "id": "cea9cd22-00ac-46fc-8872-29c6b7f60e8d",
   "metadata": {},
   "outputs": [],
   "source": [
    "In object-oriented programming (OOP), abstraction is a fundamental concept that allows you to create simplified representations of complex systems. It is like a skeletion of body."
   ]
  },
  {
   "cell_type": "code",
   "execution_count": 1,
   "id": "b00c7731-0215-419b-bf03-91d7c84aacfa",
   "metadata": {},
   "outputs": [],
   "source": [
    "import abc\n",
    "class car:\n",
    "    \n",
    "    @abc.abstractmethod\n",
    "    def test_car_name(self):\n",
    "        pass\n",
    "    \n",
    "    @abc.abstractmethod\n",
    "    def test_car_color(self):\n",
    "        pass\n",
    "    \n",
    "    "
   ]
  },
  {
   "cell_type": "code",
   "execution_count": 3,
   "id": "811f19ee-046d-483f-90f7-5d694c842681",
   "metadata": {},
   "outputs": [],
   "source": [
    "class test_car_name(car):\n",
    "    def test_car_name(self):\n",
    "        return \"I like rollsroyal\"\n",
    "    \n",
    "    \n",
    "class test_car_color(car):\n",
    "    def test_car_color(self):\n",
    "        return \"rollsroyal looks stunning in black color\"\n"
   ]
  },
  {
   "cell_type": "code",
   "execution_count": 18,
   "id": "dd521101-f0e0-4f83-869f-0fe6af608efe",
   "metadata": {},
   "outputs": [],
   "source": [
    "obj_car = test_car_name()"
   ]
  },
  {
   "cell_type": "code",
   "execution_count": 16,
   "id": "367382d0-b116-42ad-ab61-027f650e62d1",
   "metadata": {},
   "outputs": [],
   "source": [
    "obj_car = test_car_color()"
   ]
  },
  {
   "cell_type": "code",
   "execution_count": 19,
   "id": "46dbeccb-9a3f-4b8c-b0a2-b952ab5ecdd5",
   "metadata": {},
   "outputs": [
    {
     "data": {
      "text/plain": [
       "'I like rollsroyal'"
      ]
     },
     "execution_count": 19,
     "metadata": {},
     "output_type": "execute_result"
    }
   ],
   "source": [
    "obj_car.test_car_name()"
   ]
  },
  {
   "cell_type": "code",
   "execution_count": 11,
   "id": "f0cdca68-1ce3-4e55-873f-ad3262d05252",
   "metadata": {},
   "outputs": [
    {
     "data": {
      "text/plain": [
       "'rollsroyal looks stunning in black color'"
      ]
     },
     "execution_count": 11,
     "metadata": {},
     "output_type": "execute_result"
    }
   ],
   "source": [
    "obj_car.test_car_color()"
   ]
  },
  {
   "cell_type": "code",
   "execution_count": null,
   "id": "05a78323-5dc6-4114-93c1-230f10513a01",
   "metadata": {},
   "outputs": [],
   "source": []
  },
  {
   "cell_type": "code",
   "execution_count": null,
   "id": "64b73d1e-defc-4099-ae05-cb2b9af34907",
   "metadata": {},
   "outputs": [],
   "source": []
  },
  {
   "cell_type": "code",
   "execution_count": null,
   "id": "7a165460-30a1-484e-bd19-c9fae4d8e887",
   "metadata": {},
   "outputs": [],
   "source": [
    "Q2."
   ]
  },
  {
   "cell_type": "code",
   "execution_count": null,
   "id": "adef72ce-fea6-40ed-a4dd-b954842a6813",
   "metadata": {},
   "outputs": [],
   "source": [
    "Abstraction : Abstraction focuses on hiding unnecessary details and exposing only the essential characteristics and behaviors of an object."
   ]
  },
  {
   "cell_type": "code",
   "execution_count": null,
   "id": "b5298275-b597-4d93-ad28-a7f3b7b908f8",
   "metadata": {},
   "outputs": [],
   "source": [
    "Encapsulation : Encapsulation focuses on bundling data and methods together within a class, and controlling access to them through visibility modifiers such as public, private, and protected."
   ]
  },
  {
   "cell_type": "code",
   "execution_count": 32,
   "id": "8ac9282f-d1ce-4dbc-b662-592d7a5062dd",
   "metadata": {},
   "outputs": [],
   "source": [
    "##Exampple of Encapsulation\n",
    "class car :\n",
    "    def __init__(self , name , average , color, year ) : \n",
    "        \n",
    "        self.__name = name \n",
    "        self.__average = average\n",
    "        self.__color = color\n",
    "        self.__year = year\n",
    "        "
   ]
  },
  {
   "cell_type": "code",
   "execution_count": 28,
   "id": "e69c5adc-0617-45e5-af41-0b353c0558a5",
   "metadata": {},
   "outputs": [],
   "source": [
    "obj_car = car(\"bugati\", 33, \"black\", 2000) "
   ]
  },
  {
   "cell_type": "code",
   "execution_count": 31,
   "id": "8ae280dd-35d0-4afe-a633-ba774576aafc",
   "metadata": {},
   "outputs": [
    {
     "data": {
      "text/plain": [
       "'bugati'"
      ]
     },
     "execution_count": 31,
     "metadata": {},
     "output_type": "execute_result"
    }
   ],
   "source": [
    "obj_car._car__name"
   ]
  },
  {
   "cell_type": "code",
   "execution_count": 33,
   "id": "18af7dba-4f40-41b2-9a4f-83577bf55e76",
   "metadata": {},
   "outputs": [],
   "source": [
    "##Example of abstraction\n",
    "import abc\n",
    "class car:\n",
    "    \n",
    "    @abc.abstractmethod\n",
    "    def test_car_name(self):\n",
    "        pass\n",
    "    \n",
    "    @abc.abstractmethod\n",
    "    def test_car_color(self):\n",
    "        pass"
   ]
  },
  {
   "cell_type": "code",
   "execution_count": 34,
   "id": "839073b8-30fe-42f2-b471-e06c375af9bf",
   "metadata": {},
   "outputs": [],
   "source": [
    "class test_car_name(car):\n",
    "    def test_car_name(self):\n",
    "        return \"I like rollsroyal\"\n",
    "    \n",
    "    \n",
    "class test_car_color(car):\n",
    "    def test_car_color(self):\n",
    "        return \"rollsroyal looks stunning in black color\"\n"
   ]
  },
  {
   "cell_type": "code",
   "execution_count": 35,
   "id": "82d72171-8921-4faa-aada-6e63757c5689",
   "metadata": {},
   "outputs": [],
   "source": [
    "obj_car = test_car_name()"
   ]
  },
  {
   "cell_type": "code",
   "execution_count": 36,
   "id": "3e7a2e0b-ec32-4096-b966-1cc9ea508e2f",
   "metadata": {},
   "outputs": [
    {
     "data": {
      "text/plain": [
       "'I like rollsroyal'"
      ]
     },
     "execution_count": 36,
     "metadata": {},
     "output_type": "execute_result"
    }
   ],
   "source": [
    "obj_car.test_car_name()"
   ]
  },
  {
   "cell_type": "code",
   "execution_count": null,
   "id": "b2a98abf-1b3f-4772-b667-ae7ff8fc8fc6",
   "metadata": {},
   "outputs": [],
   "source": []
  },
  {
   "cell_type": "code",
   "execution_count": null,
   "id": "747ab780-761e-4193-8598-b8b8e8333ecd",
   "metadata": {},
   "outputs": [],
   "source": []
  },
  {
   "cell_type": "code",
   "execution_count": null,
   "id": "d8fbadbc-8256-4c2a-902a-aa23f1be8712",
   "metadata": {},
   "outputs": [],
   "source": [
    "Q3."
   ]
  },
  {
   "cell_type": "code",
   "execution_count": null,
   "id": "ae3e95d9-cc6f-4228-8489-2748d387bb7c",
   "metadata": {},
   "outputs": [],
   "source": [
    "The abc module in Python stands for \"Abstract Base Classes.\" It is a module that provides infrastructure for creating abstract base classes (ABCs) in Python.\n",
    "The abc module is used to create abstract base classes and enforce the concept of interface and polymorphism in Python. "
   ]
  },
  {
   "cell_type": "code",
   "execution_count": null,
   "id": "6f489561-0158-4e57-bea6-21b04f3a96aa",
   "metadata": {},
   "outputs": [],
   "source": []
  },
  {
   "cell_type": "code",
   "execution_count": null,
   "id": "abf72290-3972-4bd4-8a72-09a8d80b2a8c",
   "metadata": {},
   "outputs": [],
   "source": []
  },
  {
   "cell_type": "code",
   "execution_count": null,
   "id": "314de4ab-2e83-4d9a-884e-53808d627e04",
   "metadata": {},
   "outputs": [],
   "source": [
    "Q4."
   ]
  },
  {
   "cell_type": "code",
   "execution_count": null,
   "id": "e12cd8ee-48af-4fa8-863d-6cc2201a90a6",
   "metadata": {},
   "outputs": [],
   "source": [
    "we can achive data abstraction using following techinquie such as :\n",
    "    1. Encapsulation\n",
    "    2. Access modifier\n",
    "    3. Abstraction with Classes and Interfaces\n",
    "    4. Use of Constructors\n",
    "    5. Data Hiding"
   ]
  },
  {
   "cell_type": "code",
   "execution_count": null,
   "id": "1b60aef2-5c0f-4873-bccb-39544bf53870",
   "metadata": {},
   "outputs": [],
   "source": []
  },
  {
   "cell_type": "code",
   "execution_count": null,
   "id": "57a037d5-2475-450c-b85a-b3d9b9392df1",
   "metadata": {},
   "outputs": [],
   "source": []
  },
  {
   "cell_type": "code",
   "execution_count": null,
   "id": "f0b5efef-6c82-4165-abcc-ee6449943230",
   "metadata": {},
   "outputs": [],
   "source": []
  },
  {
   "cell_type": "code",
   "execution_count": null,
   "id": "43ca0299-d0fc-488d-b634-0cc0c8839fb8",
   "metadata": {},
   "outputs": [],
   "source": []
  }
 ],
 "metadata": {
  "kernelspec": {
   "display_name": "Python 3 (ipykernel)",
   "language": "python",
   "name": "python3"
  },
  "language_info": {
   "codemirror_mode": {
    "name": "ipython",
    "version": 3
   },
   "file_extension": ".py",
   "mimetype": "text/x-python",
   "name": "python",
   "nbconvert_exporter": "python",
   "pygments_lexer": "ipython3",
   "version": "3.10.8"
  }
 },
 "nbformat": 4,
 "nbformat_minor": 5
}
